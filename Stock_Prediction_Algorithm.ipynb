{
  "nbformat": 4,
  "nbformat_minor": 0,
  "metadata": {
    "colab": {
      "name": "Stock Prediction Algorithm.ipynb",
      "provenance": [],
      "collapsed_sections": [],
      "authorship_tag": "ABX9TyMnuo9zD2fyIe9MYXIWHZPj"
    },
    "kernelspec": {
      "name": "python3",
      "display_name": "Python 3"
    }
  },
  "cells": [
    {
      "cell_type": "code",
      "metadata": {
        "id": "1Eh-61fxnXUD",
        "colab_type": "code",
        "colab": {}
      },
      "source": [
        "# Since the Quandl Package is not installed in Colab by default, we need to first install it\n",
        "pip install quandl"
      ],
      "execution_count": 0,
      "outputs": []
    },
    {
      "cell_type": "code",
      "metadata": {
        "id": "1aCXWnJHmuTX",
        "colab_type": "code",
        "colab": {}
      },
      "source": [
        "#Quandl is used for our stock data\n",
        "import quandl\n",
        "#Pandas for our data frame\n",
        "import pandas as pd\n",
        "#Numpy for array and math functions\n",
        "import numpy as np\n",
        "import datetime\n",
        "#For visualization\n",
        "import matplotlib.pyplot as plt\n",
        "%matplotlib inline\n",
        "#sklearn for the regression algorithms\n",
        "from sklearn.linear_model import LinearRegression\n",
        "from sklearn import preprocessing, svm, datasets\n",
        "from sklearn.model_selection import cross_validate, train_test_split"
      ],
      "execution_count": 0,
      "outputs": []
    },
    {
      "cell_type": "code",
      "metadata": {
        "id": "gXAOagJmnKBN",
        "colab_type": "code",
        "outputId": "dd232fa3-0de1-4bcf-c7fe-6eb5b8bca8f5",
        "colab": {
          "base_uri": "https://localhost:8080/",
          "height": 275
        }
      },
      "source": [
        "#To get our stock data, we set our dataframe to stock_data. I will us Apple, yet you can choose any stock you wish.\n",
        "stock_data = quandl.get(\"WIKI/AAPL\")\n",
        "stock_data.tail()"
      ],
      "execution_count": 0,
      "outputs": [
        {
          "output_type": "execute_result",
          "data": {
            "text/html": [
              "<div>\n",
              "<style scoped>\n",
              "    .dataframe tbody tr th:only-of-type {\n",
              "        vertical-align: middle;\n",
              "    }\n",
              "\n",
              "    .dataframe tbody tr th {\n",
              "        vertical-align: top;\n",
              "    }\n",
              "\n",
              "    .dataframe thead th {\n",
              "        text-align: right;\n",
              "    }\n",
              "</style>\n",
              "<table border=\"1\" class=\"dataframe\">\n",
              "  <thead>\n",
              "    <tr style=\"text-align: right;\">\n",
              "      <th></th>\n",
              "      <th>Open</th>\n",
              "      <th>High</th>\n",
              "      <th>Low</th>\n",
              "      <th>Close</th>\n",
              "      <th>Volume</th>\n",
              "      <th>Ex-Dividend</th>\n",
              "      <th>Split Ratio</th>\n",
              "      <th>Adj. Open</th>\n",
              "      <th>Adj. High</th>\n",
              "      <th>Adj. Low</th>\n",
              "      <th>Adj. Close</th>\n",
              "      <th>Adj. Volume</th>\n",
              "    </tr>\n",
              "    <tr>\n",
              "      <th>Date</th>\n",
              "      <th></th>\n",
              "      <th></th>\n",
              "      <th></th>\n",
              "      <th></th>\n",
              "      <th></th>\n",
              "      <th></th>\n",
              "      <th></th>\n",
              "      <th></th>\n",
              "      <th></th>\n",
              "      <th></th>\n",
              "      <th></th>\n",
              "      <th></th>\n",
              "    </tr>\n",
              "  </thead>\n",
              "  <tbody>\n",
              "    <tr>\n",
              "      <th>2018-03-21</th>\n",
              "      <td>175.04</td>\n",
              "      <td>175.09</td>\n",
              "      <td>171.26</td>\n",
              "      <td>171.270</td>\n",
              "      <td>35247358.0</td>\n",
              "      <td>0.0</td>\n",
              "      <td>1.0</td>\n",
              "      <td>175.04</td>\n",
              "      <td>175.09</td>\n",
              "      <td>171.26</td>\n",
              "      <td>171.270</td>\n",
              "      <td>35247358.0</td>\n",
              "    </tr>\n",
              "    <tr>\n",
              "      <th>2018-03-22</th>\n",
              "      <td>170.00</td>\n",
              "      <td>172.68</td>\n",
              "      <td>168.60</td>\n",
              "      <td>168.845</td>\n",
              "      <td>41051076.0</td>\n",
              "      <td>0.0</td>\n",
              "      <td>1.0</td>\n",
              "      <td>170.00</td>\n",
              "      <td>172.68</td>\n",
              "      <td>168.60</td>\n",
              "      <td>168.845</td>\n",
              "      <td>41051076.0</td>\n",
              "    </tr>\n",
              "    <tr>\n",
              "      <th>2018-03-23</th>\n",
              "      <td>168.39</td>\n",
              "      <td>169.92</td>\n",
              "      <td>164.94</td>\n",
              "      <td>164.940</td>\n",
              "      <td>40248954.0</td>\n",
              "      <td>0.0</td>\n",
              "      <td>1.0</td>\n",
              "      <td>168.39</td>\n",
              "      <td>169.92</td>\n",
              "      <td>164.94</td>\n",
              "      <td>164.940</td>\n",
              "      <td>40248954.0</td>\n",
              "    </tr>\n",
              "    <tr>\n",
              "      <th>2018-03-26</th>\n",
              "      <td>168.07</td>\n",
              "      <td>173.10</td>\n",
              "      <td>166.44</td>\n",
              "      <td>172.770</td>\n",
              "      <td>36272617.0</td>\n",
              "      <td>0.0</td>\n",
              "      <td>1.0</td>\n",
              "      <td>168.07</td>\n",
              "      <td>173.10</td>\n",
              "      <td>166.44</td>\n",
              "      <td>172.770</td>\n",
              "      <td>36272617.0</td>\n",
              "    </tr>\n",
              "    <tr>\n",
              "      <th>2018-03-27</th>\n",
              "      <td>173.68</td>\n",
              "      <td>175.15</td>\n",
              "      <td>166.92</td>\n",
              "      <td>168.340</td>\n",
              "      <td>38962839.0</td>\n",
              "      <td>0.0</td>\n",
              "      <td>1.0</td>\n",
              "      <td>173.68</td>\n",
              "      <td>175.15</td>\n",
              "      <td>166.92</td>\n",
              "      <td>168.340</td>\n",
              "      <td>38962839.0</td>\n",
              "    </tr>\n",
              "  </tbody>\n",
              "</table>\n",
              "</div>"
            ],
            "text/plain": [
              "              Open    High     Low  ...  Adj. Low  Adj. Close  Adj. Volume\n",
              "Date                                ...                                   \n",
              "2018-03-21  175.04  175.09  171.26  ...    171.26     171.270   35247358.0\n",
              "2018-03-22  170.00  172.68  168.60  ...    168.60     168.845   41051076.0\n",
              "2018-03-23  168.39  169.92  164.94  ...    164.94     164.940   40248954.0\n",
              "2018-03-26  168.07  173.10  166.44  ...    166.44     172.770   36272617.0\n",
              "2018-03-27  173.68  175.15  166.92  ...    166.92     168.340   38962839.0\n",
              "\n",
              "[5 rows x 12 columns]"
            ]
          },
          "metadata": {
            "tags": []
          },
          "execution_count": 91
        }
      ]
    },
    {
      "cell_type": "code",
      "metadata": {
        "id": "Y0pNudgCqE_2",
        "colab_type": "code",
        "outputId": "bb82224f-be03-47c6-8734-fa4109bb3591",
        "colab": {
          "base_uri": "https://localhost:8080/",
          "height": 455
        }
      },
      "source": [
        "# We only need Adj. Close column for predictions\n",
        "stock_data = stock_data[[\"Adj. Close\"]]\n",
        "#To predict 30 days into the future, forecast_out variable will be set\n",
        "forecast_out = int(30)\n",
        "#There should be another column  in our dataframe which is known as label, which in ML known-as otput\n",
        "#Also label colmn will be shifted 30 unites up to fill output data with data to be trained upon\n",
        "stock_data[\"Prediction\"] = stock_data[[\"Adj. Close\"]].shift(-forecast_out)\n",
        "#Our dataframe can be viewed by printing the following:\n",
        "stock_data.tail(100)"
      ],
      "execution_count": 0,
      "outputs": [
        {
          "output_type": "execute_result",
          "data": {
            "text/html": [
              "<div>\n",
              "<style scoped>\n",
              "    .dataframe tbody tr th:only-of-type {\n",
              "        vertical-align: middle;\n",
              "    }\n",
              "\n",
              "    .dataframe tbody tr th {\n",
              "        vertical-align: top;\n",
              "    }\n",
              "\n",
              "    .dataframe thead th {\n",
              "        text-align: right;\n",
              "    }\n",
              "</style>\n",
              "<table border=\"1\" class=\"dataframe\">\n",
              "  <thead>\n",
              "    <tr style=\"text-align: right;\">\n",
              "      <th></th>\n",
              "      <th>Adj. Close</th>\n",
              "      <th>Prediction</th>\n",
              "    </tr>\n",
              "    <tr>\n",
              "      <th>Date</th>\n",
              "      <th></th>\n",
              "      <th></th>\n",
              "    </tr>\n",
              "  </thead>\n",
              "  <tbody>\n",
              "    <tr>\n",
              "      <th>2017-10-31</th>\n",
              "      <td>169.040</td>\n",
              "      <td>172.22</td>\n",
              "    </tr>\n",
              "    <tr>\n",
              "      <th>2017-11-01</th>\n",
              "      <td>166.890</td>\n",
              "      <td>173.87</td>\n",
              "    </tr>\n",
              "    <tr>\n",
              "      <th>2017-11-02</th>\n",
              "      <td>168.110</td>\n",
              "      <td>176.42</td>\n",
              "    </tr>\n",
              "    <tr>\n",
              "      <th>2017-11-03</th>\n",
              "      <td>172.500</td>\n",
              "      <td>174.54</td>\n",
              "    </tr>\n",
              "    <tr>\n",
              "      <th>2017-11-06</th>\n",
              "      <td>174.250</td>\n",
              "      <td>174.35</td>\n",
              "    </tr>\n",
              "    <tr>\n",
              "      <th>...</th>\n",
              "      <td>...</td>\n",
              "      <td>...</td>\n",
              "    </tr>\n",
              "    <tr>\n",
              "      <th>2018-03-21</th>\n",
              "      <td>171.270</td>\n",
              "      <td>NaN</td>\n",
              "    </tr>\n",
              "    <tr>\n",
              "      <th>2018-03-22</th>\n",
              "      <td>168.845</td>\n",
              "      <td>NaN</td>\n",
              "    </tr>\n",
              "    <tr>\n",
              "      <th>2018-03-23</th>\n",
              "      <td>164.940</td>\n",
              "      <td>NaN</td>\n",
              "    </tr>\n",
              "    <tr>\n",
              "      <th>2018-03-26</th>\n",
              "      <td>172.770</td>\n",
              "      <td>NaN</td>\n",
              "    </tr>\n",
              "    <tr>\n",
              "      <th>2018-03-27</th>\n",
              "      <td>168.340</td>\n",
              "      <td>NaN</td>\n",
              "    </tr>\n",
              "  </tbody>\n",
              "</table>\n",
              "<p>100 rows × 2 columns</p>\n",
              "</div>"
            ],
            "text/plain": [
              "            Adj. Close  Prediction\n",
              "Date                              \n",
              "2017-10-31     169.040      172.22\n",
              "2017-11-01     166.890      173.87\n",
              "2017-11-02     168.110      176.42\n",
              "2017-11-03     172.500      174.54\n",
              "2017-11-06     174.250      174.35\n",
              "...                ...         ...\n",
              "2018-03-21     171.270         NaN\n",
              "2018-03-22     168.845         NaN\n",
              "2018-03-23     164.940         NaN\n",
              "2018-03-26     172.770         NaN\n",
              "2018-03-27     168.340         NaN\n",
              "\n",
              "[100 rows x 2 columns]"
            ]
          },
          "metadata": {
            "tags": []
          },
          "execution_count": 92
        }
      ]
    },
    {
      "cell_type": "code",
      "metadata": {
        "id": "98iwcUoKA_4V",
        "colab_type": "code",
        "outputId": "d89b7a01-1999-4390-883b-03ea135cf407",
        "colab": {
          "base_uri": "https://localhost:8080/",
          "height": 550
        }
      },
      "source": [
        "#Clearly two columns have the same values.\n",
        "stock_data.hist()\n",
        "stock_data.plot()"
      ],
      "execution_count": 0,
      "outputs": [
        {
          "output_type": "execute_result",
          "data": {
            "text/plain": [
              "<matplotlib.axes._subplots.AxesSubplot at 0x7faf47ed4cc0>"
            ]
          },
          "metadata": {
            "tags": []
          },
          "execution_count": 93
        },
        {
          "output_type": "display_data",
          "data": {
            "image/png": "[encoded data removed]",
            "text/plain": [
              "<Figure size 432x288 with 2 Axes>"
            ]
          },
          "metadata": {
            "tags": [],
            "needs_background": "light"
          }
        },
        {
          "output_type": "display_data",
          "data": {
            "image/png": "[encoded data removed]",
            "text/plain": [
              "<Figure size 432x288 with 1 Axes>"
            ]
          },
          "metadata": {
            "tags": [],
            "needs_background": "light"
          }
        }
      ]
    },
    {
      "cell_type": "code",
      "metadata": {
        "id": "MjCeDu3msMwV",
        "colab_type": "code",
        "colab": {}
      },
      "source": [
        "#x is an array consisting of Adj. Closevalues, and so we want to drop the Prediction column.\n",
        "#Also, scale the input values in order to enable the normalization of the data\n",
        "X = np.array(stock_data.drop(['Prediction'],1))\n",
        "X = preprocessing.scale(X)"
      ],
      "execution_count": 0,
      "outputs": []
    },
    {
      "cell_type": "code",
      "metadata": {
        "id": "HTt8pkL2t2Wy",
        "colab_type": "code",
        "colab": {}
      },
      "source": [
        "#In our Prediction column, we had NaN values or no value data.\n",
        "#Set a new input variable to these days and remove them from the X array\n",
        "#Set  X_forecast equal to last 30\n",
        "X_forecast = X[-forecast_out]\n",
        "#Remove last 30 from X\n",
        "X = X[:-forecast_out]"
      ],
      "execution_count": 0,
      "outputs": []
    },
    {
      "cell_type": "code",
      "metadata": {
        "id": "U9L3dABzvXyh",
        "colab_type": "code",
        "colab": {}
      },
      "source": [
        "#To define our output, set it equal to Prediction Column\n",
        "y = np.array(stock_data[\"Prediction\"])\n",
        "#Remove the last 30 days since there is no any pricing data\n",
        "y = y[:-forecast_out]"
      ],
      "execution_count": 0,
      "outputs": []
    },
    {
      "cell_type": "code",
      "metadata": {
        "id": "1VBLqYCT5Pqp",
        "colab_type": "code",
        "outputId": "b7a7f194-36db-4b1d-8d60-a4797a4ce541",
        "colab": {
          "base_uri": "https://localhost:8080/",
          "height": 34
        }
      },
      "source": [
        "#Reshape the arrays in order to avoid the error of inconsistent numbers of samples\n",
        "LinearRegression().fit(X.reshape(-1,1),y)"
      ],
      "execution_count": 0,
      "outputs": [
        {
          "output_type": "execute_result",
          "data": {
            "text/plain": [
              "LinearRegression(copy_X=True, fit_intercept=True, n_jobs=None, normalize=False)"
            ]
          },
          "metadata": {
            "tags": []
          },
          "execution_count": 97
        }
      ]
    },
    {
      "cell_type": "code",
      "metadata": {
        "id": "m2fiDzMGv8_2",
        "colab_type": "code",
        "colab": {}
      },
      "source": [
        "#To predict, use train test split. Here is  test_size=20%\n",
        "\n",
        "X_train, X_test, y_train, y_test = train_test_split(X, y, test_size=0.2, random_state = 0)"
      ],
      "execution_count": 0,
      "outputs": []
    },
    {
      "cell_type": "code",
      "metadata": {
        "id": "lBNF_Fm82gPn",
        "colab_type": "code",
        "colab": {}
      },
      "source": [
        "#Initiate Linear Regression model ad fit it with the training data\n",
        "lin_reg = LinearRegression().fit(X_train,y_train)\n"
      ],
      "execution_count": 0,
      "outputs": []
    },
    {
      "cell_type": "code",
      "metadata": {
        "id": "DHJdTrUK-5C6",
        "colab_type": "code",
        "outputId": "ea176124-5b6a-4a02-dd8e-2a0fa7ec92e5",
        "colab": {
          "base_uri": "https://localhost:8080/",
          "height": 52
        }
      },
      "source": [
        "#To test the accuracy of the model, the score is used to test the data.\n",
        "y_predict = lin_reg.predict(X_test)\n",
        "print(\"Prediction:\",y_predict)"
      ],
      "execution_count": 0,
      "outputs": [
        {
          "output_type": "stream",
          "text": [
            "Prediction: [  1.64578154   1.38123538   1.31830567 ...   3.64539378 107.60131004\n",
            "  32.02275838]\n"
          ],
          "name": "stdout"
        }
      ]
    }
  ]
}